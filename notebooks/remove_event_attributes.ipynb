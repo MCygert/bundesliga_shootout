{
 "cells": [
  {
   "cell_type": "code",
   "execution_count": 1,
   "metadata": {
    "collapsed": true,
    "pycharm": {
     "name": "#%%\n"
    }
   },
   "outputs": [],
   "source": [
    "import pandas as pd\n"
   ]
  },
  {
   "cell_type": "code",
   "execution_count": 2,
   "outputs": [
    {
     "data": {
      "text/plain": "         video_id         time      event\n0      1606b0e6_0   200.265822      start\n1      1606b0e6_0   201.150000  challenge\n2      1606b0e6_0   202.765822        end\n3      1606b0e6_0   210.124111      start\n4      1606b0e6_0   210.870000  challenge\n...           ...          ...        ...\n11213  ecf251d4_0  3056.587000  challenge\n11214  ecf251d4_0  3058.072895        end\n11215  ecf251d4_0  3068.280519      start\n11216  ecf251d4_0  3069.547000    throwin\n11217  ecf251d4_0  3070.780519        end\n\n[11218 rows x 3 columns]",
      "text/html": "<div>\n<style scoped>\n    .dataframe tbody tr th:only-of-type {\n        vertical-align: middle;\n    }\n\n    .dataframe tbody tr th {\n        vertical-align: top;\n    }\n\n    .dataframe thead th {\n        text-align: right;\n    }\n</style>\n<table border=\"1\" class=\"dataframe\">\n  <thead>\n    <tr style=\"text-align: right;\">\n      <th></th>\n      <th>video_id</th>\n      <th>time</th>\n      <th>event</th>\n    </tr>\n  </thead>\n  <tbody>\n    <tr>\n      <th>0</th>\n      <td>1606b0e6_0</td>\n      <td>200.265822</td>\n      <td>start</td>\n    </tr>\n    <tr>\n      <th>1</th>\n      <td>1606b0e6_0</td>\n      <td>201.150000</td>\n      <td>challenge</td>\n    </tr>\n    <tr>\n      <th>2</th>\n      <td>1606b0e6_0</td>\n      <td>202.765822</td>\n      <td>end</td>\n    </tr>\n    <tr>\n      <th>3</th>\n      <td>1606b0e6_0</td>\n      <td>210.124111</td>\n      <td>start</td>\n    </tr>\n    <tr>\n      <th>4</th>\n      <td>1606b0e6_0</td>\n      <td>210.870000</td>\n      <td>challenge</td>\n    </tr>\n    <tr>\n      <th>...</th>\n      <td>...</td>\n      <td>...</td>\n      <td>...</td>\n    </tr>\n    <tr>\n      <th>11213</th>\n      <td>ecf251d4_0</td>\n      <td>3056.587000</td>\n      <td>challenge</td>\n    </tr>\n    <tr>\n      <th>11214</th>\n      <td>ecf251d4_0</td>\n      <td>3058.072895</td>\n      <td>end</td>\n    </tr>\n    <tr>\n      <th>11215</th>\n      <td>ecf251d4_0</td>\n      <td>3068.280519</td>\n      <td>start</td>\n    </tr>\n    <tr>\n      <th>11216</th>\n      <td>ecf251d4_0</td>\n      <td>3069.547000</td>\n      <td>throwin</td>\n    </tr>\n    <tr>\n      <th>11217</th>\n      <td>ecf251d4_0</td>\n      <td>3070.780519</td>\n      <td>end</td>\n    </tr>\n  </tbody>\n</table>\n<p>11218 rows × 3 columns</p>\n</div>"
     },
     "execution_count": 2,
     "metadata": {},
     "output_type": "execute_result"
    }
   ],
   "source": [
    "df = pd.read_csv(\"../data/train.csv\")\n",
    "df_without_event_atrr = df.drop(\"event_attributes\", axis=1)\n",
    "df_without_event_atrr"
   ],
   "metadata": {
    "collapsed": false,
    "pycharm": {
     "name": "#%%\n"
    }
   }
  },
  {
   "cell_type": "code",
   "execution_count": 3,
   "outputs": [],
   "source": [
    "df_without_event_atrr.to_csv('../data/train_correct.csv')"
   ],
   "metadata": {
    "collapsed": false,
    "pycharm": {
     "name": "#%%\n"
    }
   }
  },
  {
   "cell_type": "code",
   "execution_count": null,
   "outputs": [],
   "source": [],
   "metadata": {
    "collapsed": false,
    "pycharm": {
     "name": "#%%\n"
    }
   }
  }
 ],
 "metadata": {
  "kernelspec": {
   "display_name": "Python 3",
   "language": "python",
   "name": "python3"
  },
  "language_info": {
   "codemirror_mode": {
    "name": "ipython",
    "version": 2
   },
   "file_extension": ".py",
   "mimetype": "text/x-python",
   "name": "python",
   "nbconvert_exporter": "python",
   "pygments_lexer": "ipython2",
   "version": "2.7.6"
  }
 },
 "nbformat": 4,
 "nbformat_minor": 0
}